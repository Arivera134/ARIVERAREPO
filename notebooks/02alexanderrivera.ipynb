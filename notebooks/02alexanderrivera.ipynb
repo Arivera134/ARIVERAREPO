{
 "cells": [
  {
   "cell_type": "code",
   "execution_count": 8,
   "metadata": {},
   "outputs": [
    {
     "data": {
      "text/plain": [
       "8"
      ]
     },
     "execution_count": 8,
     "metadata": {},
     "output_type": "execute_result"
    }
   ],
   "source": [
    "#funcion de x  F(x) con esto tengo nombre u variable pordua ser un ejemplo =x+5 estor seria igual que si x fuera 3 pues seria 3+8 el resultadi seria 8\n",
    "\n",
    "from re import X\n",
    "\n",
    "\n",
    "def f(x):\n",
    "    x+5\n",
    "    resutado1=x+5\n",
    "    \n",
    "   \n",
    "    return resutado1 #tes puede servir para ejecutar \n",
    "\n",
    "f(x=3)\n",
    "    "
   ]
  },
  {
   "cell_type": "code",
   "execution_count": null,
   "metadata": {},
   "outputs": [],
   "source": [
    "#obtener el varo de la suma de numeros de una lista\n",
    "# obtener el valor minimo y maximo\n",
    "# obtener la nedia y  y desvicion estandar\n",
    "\n",
    "\n",
    "#calacular_valores(lista_numeros)\n",
    "# suma = calcular_suma(lista_numero)\n",
    "# media,desv<-std=calcular_valores_centrales(lista_numeros)\n",
    "# min_val,max_val = calcular_extremos(lista_numeros)\n",
    "#retturn sum;medi,ded_std,min_val,max_val\n",
    "\n"
   ]
  },
  {
   "cell_type": "code",
   "execution_count": 35,
   "metadata": {},
   "outputs": [],
   "source": [
    "\n",
    "import numpy as np\n",
    "\n",
    "def calcular_valores_cetrales(lista_numero):\n",
    "    media = np.mean(lista_numero)\n",
    "    desv_std= np.std(lista_numero)\n",
    "    return media,desv_std\n",
    "\n",
    "def calcular_suma(lista_numero):\n",
    "    resultado = np.sum(lista_numero)\n",
    "    return resultado\n",
    "def calacular_valores(lista_numero):\n",
    "    suma=calcular_suma(lista_numero)\n",
    "    return suma"
   ]
  },
  {
   "cell_type": "code",
   "execution_count": 34,
   "metadata": {},
   "outputs": [
    {
     "data": {
      "text/plain": [
       "91"
      ]
     },
     "execution_count": 34,
     "metadata": {},
     "output_type": "execute_result"
    }
   ],
   "source": [
    "lista_numero=[1,5,8,45,9,23]\n",
    "calacular_valores(lista_numero)\n"
   ]
  },
  {
   "cell_type": "markdown",
   "metadata": {},
   "source": [
    "Funciones en Python"
   ]
  }
 ],
 "metadata": {
  "kernelspec": {
   "display_name": "Python 3.10.6 64-bit",
   "language": "python",
   "name": "python3"
  },
  "language_info": {
   "codemirror_mode": {
    "name": "ipython",
    "version": 3
   },
   "file_extension": ".py",
   "mimetype": "text/x-python",
   "name": "python",
   "nbconvert_exporter": "python",
   "pygments_lexer": "ipython3",
   "version": "3.10.6"
  },
  "orig_nbformat": 4,
  "vscode": {
   "interpreter": {
    "hash": "aee8b7b246df8f9039afb4144a1f6fd8d2ca17a180786b69acc140d282b71a49"
   }
  }
 },
 "nbformat": 4,
 "nbformat_minor": 2
}
