{
 "cells": [
  {
   "cell_type": "markdown",
   "metadata": {},
   "source": [
    "# notebooks inicial para EDA para llmada  123"
   ]
  },
  {
   "cell_type": "code",
   "execution_count": 2,
   "metadata": {},
   "outputs": [],
   "source": [
    "# importar librerias de manipulacion de datos\n",
    "import pandas as pd\n",
    "\n",
    "import os \n",
    "\n",
    "from pathlib import Path \n"
   ]
  },
  {
   "cell_type": "code",
   "execution_count": 3,
   "metadata": {},
   "outputs": [
    {
     "data": {
      "text/plain": [
       "'/Users/alexanderrivera/Desktop/phayton/data/raw/llamadas123_julio_2022.csv'"
      ]
     },
     "execution_count": 3,
     "metadata": {},
     "output_type": "execute_result"
    }
   ],
   "source": [
    "root_dir = Path(\".\").resolve().parent\n",
    "filename = \"llamadas123_julio_2022.csv\"\n",
    "file_path = os.path.join(root_dir,\"data\",\"raw\",filename)\n",
    "file_path \n",
    "\n"
   ]
  },
  {
   "cell_type": "code",
   "execution_count": 6,
   "metadata": {},
   "outputs": [],
   "source": [
    "df = pd.read_csv(file_path, sep=\";\" , encoding= \"latin-1\",nrows =100) #funcion nrows es para sacar el numero de 100"
   ]
  },
  {
   "cell_type": "code",
   "execution_count": 7,
   "metadata": {},
   "outputs": [
    {
     "data": {
      "text/html": [
       "<div>\n",
       "<style scoped>\n",
       "    .dataframe tbody tr th:only-of-type {\n",
       "        vertical-align: middle;\n",
       "    }\n",
       "\n",
       "    .dataframe tbody tr th {\n",
       "        vertical-align: top;\n",
       "    }\n",
       "\n",
       "    .dataframe thead th {\n",
       "        text-align: right;\n",
       "    }\n",
       "</style>\n",
       "<table border=\"1\" class=\"dataframe\">\n",
       "  <thead>\n",
       "    <tr style=\"text-align: right;\">\n",
       "      <th></th>\n",
       "      <th>NUMERO_INCIDENTE</th>\n",
       "      <th>FECHA_INICIO_DESPLAZAMIENTO_MOVIL</th>\n",
       "      <th>CODIGO_LOCALIDAD</th>\n",
       "      <th>LOCALIDAD</th>\n",
       "      <th>EDAD</th>\n",
       "      <th>UNIDAD</th>\n",
       "      <th>GENERO</th>\n",
       "      <th>RED</th>\n",
       "      <th>TIPO_INCIDENTE</th>\n",
       "      <th>PRIORIDAD</th>\n",
       "      <th>RECEPCION</th>\n",
       "    </tr>\n",
       "  </thead>\n",
       "  <tbody>\n",
       "    <tr>\n",
       "      <th>0</th>\n",
       "      <td>CRU-00278353-22</td>\n",
       "      <td>2022-07-01 00:08:59</td>\n",
       "      <td>11</td>\n",
       "      <td>Suba</td>\n",
       "      <td>88</td>\n",
       "      <td>A¤os</td>\n",
       "      <td>FEMENINO</td>\n",
       "      <td>Norte</td>\n",
       "      <td>Accidente Cerebro Vascular</td>\n",
       "      <td>ALTA</td>\n",
       "      <td>2022-07-01 03:40:13</td>\n",
       "    </tr>\n",
       "    <tr>\n",
       "      <th>1</th>\n",
       "      <td>CRU-00278360-22</td>\n",
       "      <td>2022-07-01 00:14:58</td>\n",
       "      <td>11</td>\n",
       "      <td>Suba</td>\n",
       "      <td>16</td>\n",
       "      <td>A¤os</td>\n",
       "      <td>MASCULINO</td>\n",
       "      <td>Norte</td>\n",
       "      <td>Herido</td>\n",
       "      <td>ALTA</td>\n",
       "      <td>2022-07-01 03:38:13</td>\n",
       "    </tr>\n",
       "    <tr>\n",
       "      <th>2</th>\n",
       "      <td>CRU-00278365-22</td>\n",
       "      <td>2022-07-01 00:21:59</td>\n",
       "      <td>18</td>\n",
       "      <td>Rafael Uribe Uribe</td>\n",
       "      <td>52</td>\n",
       "      <td>A¤os</td>\n",
       "      <td>FEMENINO</td>\n",
       "      <td>Centro Oriente</td>\n",
       "      <td>Evento Respiratorio</td>\n",
       "      <td>CRITICA</td>\n",
       "      <td>2022-07-01 04:08:24</td>\n",
       "    </tr>\n",
       "    <tr>\n",
       "      <th>3</th>\n",
       "      <td>CRU-00278370-22</td>\n",
       "      <td>2022-07-01 00:38:38</td>\n",
       "      <td>19</td>\n",
       "      <td>Ciudad Bol¡var</td>\n",
       "      <td>SIN_DATO</td>\n",
       "      <td>SIN_DATO</td>\n",
       "      <td>SIN_DATO</td>\n",
       "      <td>Privada</td>\n",
       "      <td>Herido</td>\n",
       "      <td>ALTA</td>\n",
       "      <td>0000-00-00 00:00:00</td>\n",
       "    </tr>\n",
       "    <tr>\n",
       "      <th>4</th>\n",
       "      <td>CRU-00278372-22</td>\n",
       "      <td>2022-07-01 00:53:32</td>\n",
       "      <td>1</td>\n",
       "      <td>Usaqun</td>\n",
       "      <td>33</td>\n",
       "      <td>A¤os</td>\n",
       "      <td>MASCULINO</td>\n",
       "      <td>Norte</td>\n",
       "      <td>Intento de Suicidio</td>\n",
       "      <td>ALTA</td>\n",
       "      <td>2022-07-01 03:25:29</td>\n",
       "    </tr>\n",
       "    <tr>\n",
       "      <th>5</th>\n",
       "      <td>CRU-00278376-22</td>\n",
       "      <td>2022-07-01 00:56:11</td>\n",
       "      <td>1</td>\n",
       "      <td>Usaqun</td>\n",
       "      <td>SIN_DATO</td>\n",
       "      <td>SIN_DATO</td>\n",
       "      <td>SIN_DATO</td>\n",
       "      <td>Norte</td>\n",
       "      <td>Evento Respiratorio</td>\n",
       "      <td>ALTA</td>\n",
       "      <td>0000-00-00 00:00:00</td>\n",
       "    </tr>\n",
       "    <tr>\n",
       "      <th>6</th>\n",
       "      <td>CRU-00278380-22</td>\n",
       "      <td>2022-07-01 01:09:14</td>\n",
       "      <td>17</td>\n",
       "      <td>La Candelaria</td>\n",
       "      <td>57</td>\n",
       "      <td>A¤os</td>\n",
       "      <td>FEMENINO</td>\n",
       "      <td>Norte</td>\n",
       "      <td>S¡ntomas Gastrointestinales</td>\n",
       "      <td>CRITICA</td>\n",
       "      <td>2022-07-01 04:17:41</td>\n",
       "    </tr>\n",
       "    <tr>\n",
       "      <th>7</th>\n",
       "      <td>CRU-00278379-22</td>\n",
       "      <td>2022-07-01 01:09:27</td>\n",
       "      <td>19</td>\n",
       "      <td>Ciudad Bol¡var</td>\n",
       "      <td>65</td>\n",
       "      <td>A¤os</td>\n",
       "      <td>FEMENINO</td>\n",
       "      <td>Sur</td>\n",
       "      <td>Enfermo</td>\n",
       "      <td>ALTA</td>\n",
       "      <td>2022-07-01 05:07:00</td>\n",
       "    </tr>\n",
       "    <tr>\n",
       "      <th>8</th>\n",
       "      <td>CRU-00278386-22</td>\n",
       "      <td>2022-07-01 01:11:07</td>\n",
       "      <td>15</td>\n",
       "      <td>Antonio Nari¤o</td>\n",
       "      <td>14</td>\n",
       "      <td>A¤os</td>\n",
       "      <td>MASCULINO</td>\n",
       "      <td>Sur</td>\n",
       "      <td>Convulsi¢n</td>\n",
       "      <td>ALTA</td>\n",
       "      <td>2022-07-01 02:37:45</td>\n",
       "    </tr>\n",
       "    <tr>\n",
       "      <th>9</th>\n",
       "      <td>CRU-00278383-22</td>\n",
       "      <td>2022-07-01 01:12:00</td>\n",
       "      <td>4</td>\n",
       "      <td>San Crist¢bal</td>\n",
       "      <td>83</td>\n",
       "      <td>A¤os</td>\n",
       "      <td>FEMENINO</td>\n",
       "      <td>Sur</td>\n",
       "      <td>Evento Respiratorio</td>\n",
       "      <td>ALTA</td>\n",
       "      <td>0000-00-00 00:00:00</td>\n",
       "    </tr>\n",
       "  </tbody>\n",
       "</table>\n",
       "</div>"
      ],
      "text/plain": [
       "  NUMERO_INCIDENTE FECHA_INICIO_DESPLAZAMIENTO_MOVIL  CODIGO_LOCALIDAD  \\\n",
       "0  CRU-00278353-22               2022-07-01 00:08:59                11   \n",
       "1  CRU-00278360-22               2022-07-01 00:14:58                11   \n",
       "2  CRU-00278365-22               2022-07-01 00:21:59                18   \n",
       "3  CRU-00278370-22               2022-07-01 00:38:38                19   \n",
       "4  CRU-00278372-22               2022-07-01 00:53:32                 1   \n",
       "5  CRU-00278376-22               2022-07-01 00:56:11                 1   \n",
       "6  CRU-00278380-22               2022-07-01 01:09:14                17   \n",
       "7  CRU-00278379-22               2022-07-01 01:09:27                19   \n",
       "8  CRU-00278386-22               2022-07-01 01:11:07                15   \n",
       "9  CRU-00278383-22               2022-07-01 01:12:00                 4   \n",
       "\n",
       "            LOCALIDAD      EDAD    UNIDAD     GENERO             RED  \\\n",
       "0                Suba        88      A¤os   FEMENINO           Norte   \n",
       "1                Suba        16      A¤os  MASCULINO           Norte   \n",
       "2  Rafael Uribe Uribe        52      A¤os   FEMENINO  Centro Oriente   \n",
       "3      Ciudad Bol¡var  SIN_DATO  SIN_DATO   SIN_DATO         Privada   \n",
       "4             Usaqun        33      A¤os  MASCULINO           Norte   \n",
       "5             Usaqun  SIN_DATO  SIN_DATO   SIN_DATO           Norte   \n",
       "6       La Candelaria        57      A¤os   FEMENINO           Norte   \n",
       "7      Ciudad Bol¡var        65      A¤os   FEMENINO             Sur   \n",
       "8      Antonio Nari¤o        14      A¤os  MASCULINO             Sur   \n",
       "9       San Crist¢bal        83      A¤os   FEMENINO             Sur   \n",
       "\n",
       "                TIPO_INCIDENTE PRIORIDAD            RECEPCION  \n",
       "0   Accidente Cerebro Vascular      ALTA  2022-07-01 03:40:13  \n",
       "1                       Herido      ALTA  2022-07-01 03:38:13  \n",
       "2          Evento Respiratorio   CRITICA  2022-07-01 04:08:24  \n",
       "3                       Herido      ALTA  0000-00-00 00:00:00  \n",
       "4          Intento de Suicidio      ALTA  2022-07-01 03:25:29  \n",
       "5          Evento Respiratorio      ALTA  0000-00-00 00:00:00  \n",
       "6  S¡ntomas Gastrointestinales   CRITICA  2022-07-01 04:17:41  \n",
       "7                      Enfermo      ALTA  2022-07-01 05:07:00  \n",
       "8                   Convulsi¢n      ALTA  2022-07-01 02:37:45  \n",
       "9          Evento Respiratorio      ALTA  0000-00-00 00:00:00  "
      ]
     },
     "execution_count": 7,
     "metadata": {},
     "output_type": "execute_result"
    }
   ],
   "source": [
    "df.head(10) # para ver las primeras diez filas"
   ]
  },
  {
   "cell_type": "code",
   "execution_count": 8,
   "metadata": {},
   "outputs": [
    {
     "data": {
      "text/plain": [
       "(100, 11)"
      ]
     },
     "execution_count": 8,
     "metadata": {},
     "output_type": "execute_result"
    }
   ],
   "source": [
    "df.shape  # shape sirve para ver la forma de la tabla esto es una tupla cuando colacas[0]muestras la columnas si remplaza por 1 la columnas"
   ]
  },
  {
   "cell_type": "code",
   "execution_count": 10,
   "metadata": {},
   "outputs": [
    {
     "data": {
      "text/plain": [
       "NUMERO_INCIDENTE                     object\n",
       "FECHA_INICIO_DESPLAZAMIENTO_MOVIL    object\n",
       "CODIGO_LOCALIDAD                      int64\n",
       "LOCALIDAD                            object\n",
       "EDAD                                 object\n",
       "UNIDAD                               object\n",
       "GENERO                               object\n",
       "RED                                  object\n",
       "TIPO_INCIDENTE                       object\n",
       "PRIORIDAD                            object\n",
       "RECEPCION                            object\n",
       "dtype: object"
      ]
     },
     "execution_count": 10,
     "metadata": {},
     "output_type": "execute_result"
    }
   ],
   "source": [
    "df.dtypes # esta funcion determina el tipo de datos esto se denmina esquema de tabla"
   ]
  },
  {
   "cell_type": "code",
   "execution_count": 11,
   "metadata": {},
   "outputs": [
    {
     "data": {
      "text/plain": [
       "FEMENINO     0.37\n",
       "SIN_DATO     0.37\n",
       "MASCULINO    0.26\n",
       "Name: GENERO, dtype: float64"
      ]
     },
     "execution_count": 11,
     "metadata": {},
     "output_type": "execute_result"
    }
   ],
   "source": [
    "df[\"GENERO\"].value_counts (normalize = True) # con esteste podemos ver solo una columna los datos me refiero  y con normalize t Trie los promedia "
   ]
  },
  {
   "cell_type": "code",
   "execution_count": 12,
   "metadata": {},
   "outputs": [
    {
     "data": {
      "text/plain": [
       "array(['Accidente Cerebro Vascular', 'Herido', 'Evento Respiratorio',\n",
       "       'Intento de Suicidio', 'S¡ntomas Gastrointestinales', 'Enfermo',\n",
       "       'Convulsi¢n', 'Ca¡da de Altura', 'Maltrato',\n",
       "       'Inconsciente / Paro cardiorespiratorio',\n",
       "       'Patolog¡a Ginecobst\\x82trica', 'Dolor Tor\\xa0cico',\n",
       "       'Trastorno Mental'], dtype=object)"
      ]
     },
     "execution_count": 12,
     "metadata": {},
     "output_type": "execute_result"
    }
   ],
   "source": [
    "df [\"TIPO_INCIDENTE\"].unique()"
   ]
  },
  {
   "cell_type": "code",
   "execution_count": 13,
   "metadata": {},
   "outputs": [
    {
     "data": {
      "text/plain": [
       "Index(['NUMERO_INCIDENTE', 'FECHA_INICIO_DESPLAZAMIENTO_MOVIL',\n",
       "       'CODIGO_LOCALIDAD'],\n",
       "      dtype='object')"
      ]
     },
     "execution_count": 13,
     "metadata": {},
     "output_type": "execute_result"
    }
   ],
   "source": [
    "lista_columnas = df.columns # para mostras las columnas \n",
    "lista_columnas[0:3] #con este busca desde el primero hasta el tercero sin incluirlo \n"
   ]
  },
  {
   "cell_type": "code",
   "execution_count": 14,
   "metadata": {},
   "outputs": [
    {
     "name": "stdout",
     "output_type": "stream",
     "text": [
      "columna 11 NUMERO_INCIDENTE\n",
      "columna 11 FECHA_INICIO_DESPLAZAMIENTO_MOVIL\n",
      "columna 11 CODIGO_LOCALIDAD\n",
      "columna 11 LOCALIDAD\n",
      "columna 11 EDAD\n",
      "columna 11 UNIDAD\n",
      "columna 11 GENERO\n",
      "columna 11 RED\n",
      "columna 11 TIPO_INCIDENTE\n",
      "columna 11 PRIORIDAD\n",
      "columna 11 RECEPCION\n",
      "por fuera de rango\n",
      "{'NUMERO_INCIDENTE': 11, 'FECHA_INICIO_DESPLAZAMIENTO_MOVIL': 11, 'CODIGO_LOCALIDAD': 11, 'LOCALIDAD': 11, 'EDAD': 11, 'UNIDAD': 11, 'GENERO': 11, 'RED': 11, 'TIPO_INCIDENTE': 11, 'PRIORIDAD': 11, 'RECEPCION': 11}\n"
     ]
    }
   ],
   "source": [
    "dict_reporte =dict()\n",
    "for col in lista_columnas:# para mostrar las columnas\n",
    "    lista_unicos = df[col].unique()\n",
    "    n_unicos = len(lista_columnas)\n",
    "    dict_reporte[col]=n_unicos\n",
    "    print(\"columna\",n_unicos,col)\n",
    "print(\"por fuera de rango\")\n",
    "print(dict_reporte)"
   ]
  },
  {
   "cell_type": "code",
   "execution_count": 15,
   "metadata": {},
   "outputs": [
    {
     "data": {
      "text/html": [
       "<div>\n",
       "<style scoped>\n",
       "    .dataframe tbody tr th:only-of-type {\n",
       "        vertical-align: middle;\n",
       "    }\n",
       "\n",
       "    .dataframe tbody tr th {\n",
       "        vertical-align: top;\n",
       "    }\n",
       "\n",
       "    .dataframe thead th {\n",
       "        text-align: right;\n",
       "    }\n",
       "</style>\n",
       "<table border=\"1\" class=\"dataframe\">\n",
       "  <thead>\n",
       "    <tr style=\"text-align: right;\">\n",
       "      <th></th>\n",
       "      <th>conteo</th>\n",
       "    </tr>\n",
       "  </thead>\n",
       "  <tbody>\n",
       "    <tr>\n",
       "      <th>NUMERO_INCIDENTE</th>\n",
       "      <td>11</td>\n",
       "    </tr>\n",
       "    <tr>\n",
       "      <th>FECHA_INICIO_DESPLAZAMIENTO_MOVIL</th>\n",
       "      <td>11</td>\n",
       "    </tr>\n",
       "    <tr>\n",
       "      <th>CODIGO_LOCALIDAD</th>\n",
       "      <td>11</td>\n",
       "    </tr>\n",
       "    <tr>\n",
       "      <th>LOCALIDAD</th>\n",
       "      <td>11</td>\n",
       "    </tr>\n",
       "    <tr>\n",
       "      <th>EDAD</th>\n",
       "      <td>11</td>\n",
       "    </tr>\n",
       "    <tr>\n",
       "      <th>UNIDAD</th>\n",
       "      <td>11</td>\n",
       "    </tr>\n",
       "    <tr>\n",
       "      <th>GENERO</th>\n",
       "      <td>11</td>\n",
       "    </tr>\n",
       "    <tr>\n",
       "      <th>RED</th>\n",
       "      <td>11</td>\n",
       "    </tr>\n",
       "    <tr>\n",
       "      <th>TIPO_INCIDENTE</th>\n",
       "      <td>11</td>\n",
       "    </tr>\n",
       "    <tr>\n",
       "      <th>PRIORIDAD</th>\n",
       "      <td>11</td>\n",
       "    </tr>\n",
       "    <tr>\n",
       "      <th>RECEPCION</th>\n",
       "      <td>11</td>\n",
       "    </tr>\n",
       "  </tbody>\n",
       "</table>\n",
       "</div>"
      ],
      "text/plain": [
       "                                   conteo\n",
       "NUMERO_INCIDENTE                       11\n",
       "FECHA_INICIO_DESPLAZAMIENTO_MOVIL      11\n",
       "CODIGO_LOCALIDAD                       11\n",
       "LOCALIDAD                              11\n",
       "EDAD                                   11\n",
       "UNIDAD                                 11\n",
       "GENERO                                 11\n",
       "RED                                    11\n",
       "TIPO_INCIDENTE                         11\n",
       "PRIORIDAD                              11\n",
       "RECEPCION                              11"
      ]
     },
     "execution_count": 15,
     "metadata": {},
     "output_type": "execute_result"
    }
   ],
   "source": [
    "df_reporte = pd.DataFrame.from_dict(dict_reporte ,orient=\"index\")\n",
    "df_reporte.rename({0:\"conteo\"},inplace= True,axis=1)\n",
    "df_reporte\n"
   ]
  },
  {
   "cell_type": "code",
   "execution_count": 16,
   "metadata": {},
   "outputs": [],
   "source": [
    "out_name=\"reporte\"+filename\n",
    "out_path=os.path.join(root_dir,\"data\",\"procesos\",out_name)\n",
    "df_reporte.to_csv(out_path)"
   ]
  }
 ],
 "metadata": {
  "kernelspec": {
   "display_name": "Python 3.10.6 64-bit",
   "language": "python",
   "name": "python3"
  },
  "language_info": {
   "codemirror_mode": {
    "name": "ipython",
    "version": 3
   },
   "file_extension": ".py",
   "mimetype": "text/x-python",
   "name": "python",
   "nbconvert_exporter": "python",
   "pygments_lexer": "ipython3",
   "version": "3.10.6"
  },
  "orig_nbformat": 4,
  "vscode": {
   "interpreter": {
    "hash": "aee8b7b246df8f9039afb4144a1f6fd8d2ca17a180786b69acc140d282b71a49"
   }
  }
 },
 "nbformat": 4,
 "nbformat_minor": 2
}
