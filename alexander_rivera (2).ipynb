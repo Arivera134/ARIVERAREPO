{
 "cells": [
  {
   "cell_type": "code",
   "execution_count": 20,
   "id": "9952d94e-ef60-40bf-92da-1d841c98806e",
   "metadata": {},
   "outputs": [],
   "source": [
    "import os\n",
    "import sys\n",
    "import logging\n",
    "import pandas as pd\n",
    "import numpy as np\n",
    "import logging\n",
    "\n"
   ]
  },
  {
   "cell_type": "code",
   "execution_count": 22,
   "id": "5986e5e2-f991-4ee7-ba11-697554e46664",
   "metadata": {},
   "outputs": [],
   "source": [
    " consolidado_123=pd.read_csv(\"gs://fuenteexternas/Consolidado_datos_abiertos_2021_2022.csv\",encoding =\"latin1\",sep=\";\")\n",
    "    \n"
   ]
  },
  {
   "cell_type": "code",
   "execution_count": 25,
   "id": "c4029c70-1fd3-44dd-b0fa-6642f3304a29",
   "metadata": {},
   "outputs": [
    {
     "data": {
      "text/html": [
       "<div>\n",
       "<style scoped>\n",
       "    .dataframe tbody tr th:only-of-type {\n",
       "        vertical-align: middle;\n",
       "    }\n",
       "\n",
       "    .dataframe tbody tr th {\n",
       "        vertical-align: top;\n",
       "    }\n",
       "\n",
       "    .dataframe thead th {\n",
       "        text-align: right;\n",
       "    }\n",
       "</style>\n",
       "<table border=\"1\" class=\"dataframe\">\n",
       "  <thead>\n",
       "    <tr style=\"text-align: right;\">\n",
       "      <th></th>\n",
       "      <th>NUMERO_INCIDENTE</th>\n",
       "      <th>FECHA_INICIO_DESPLAZAMIENTO-MOVIL</th>\n",
       "      <th>CODIGO_LOCALIDAD</th>\n",
       "      <th>LOCALIDAD</th>\n",
       "      <th>EDAD</th>\n",
       "      <th>UNIDAD</th>\n",
       "      <th>GENERO</th>\n",
       "      <th>RED</th>\n",
       "      <th>TIPO_INCIDENTE</th>\n",
       "      <th>PRIORIDAD</th>\n",
       "      <th>RECEPCION</th>\n",
       "    </tr>\n",
       "  </thead>\n",
       "  <tbody>\n",
       "    <tr>\n",
       "      <th>0</th>\n",
       "      <td>CRU-00133927-22</td>\n",
       "      <td>1/04/2022 5:31</td>\n",
       "      <td>18</td>\n",
       "      <td>Rafael Uribe Uribe</td>\n",
       "      <td>0</td>\n",
       "      <td>SIN_DATO</td>\n",
       "      <td>SIN_DATO</td>\n",
       "      <td>Privada</td>\n",
       "      <td>Herido</td>\n",
       "      <td>ALTA</td>\n",
       "      <td>0000-00-00 00:00:00</td>\n",
       "    </tr>\n",
       "    <tr>\n",
       "      <th>1</th>\n",
       "      <td>CRU-00133948-22</td>\n",
       "      <td>1/04/2022 5:52</td>\n",
       "      <td>19</td>\n",
       "      <td>Ciudad Bol¡var</td>\n",
       "      <td>0</td>\n",
       "      <td>SIN_DATO</td>\n",
       "      <td>SIN_DATO</td>\n",
       "      <td>Privada</td>\n",
       "      <td>Herido</td>\n",
       "      <td>ALTA</td>\n",
       "      <td>0000-00-00 00:00:00</td>\n",
       "    </tr>\n",
       "    <tr>\n",
       "      <th>2</th>\n",
       "      <td>CRU-00133967-22</td>\n",
       "      <td>1/04/2022 6:06</td>\n",
       "      <td>7</td>\n",
       "      <td>Bosa</td>\n",
       "      <td>0</td>\n",
       "      <td>SIN_DATO</td>\n",
       "      <td>SIN_DATO</td>\n",
       "      <td>Privada</td>\n",
       "      <td>Herido</td>\n",
       "      <td>ALTA</td>\n",
       "      <td>0000-00-00 00:00:00</td>\n",
       "    </tr>\n",
       "    <tr>\n",
       "      <th>3</th>\n",
       "      <td>CRU-00134007-22</td>\n",
       "      <td>1/04/2022 6:47</td>\n",
       "      <td>19</td>\n",
       "      <td>Ciudad Bol¡var</td>\n",
       "      <td>22</td>\n",
       "      <td>A¤os</td>\n",
       "      <td>FEMENINO</td>\n",
       "      <td>Privada</td>\n",
       "      <td>Herido</td>\n",
       "      <td>ALTA</td>\n",
       "      <td>1/04/2022 8:37</td>\n",
       "    </tr>\n",
       "    <tr>\n",
       "      <th>4</th>\n",
       "      <td>CRU-00134032-22</td>\n",
       "      <td>1/04/2022 7:07</td>\n",
       "      <td>11</td>\n",
       "      <td>Suba</td>\n",
       "      <td>36</td>\n",
       "      <td>A¤os</td>\n",
       "      <td>MASCULINO</td>\n",
       "      <td>Privada</td>\n",
       "      <td>Herido</td>\n",
       "      <td>ALTA</td>\n",
       "      <td>0000-00-00 00:00:00</td>\n",
       "    </tr>\n",
       "  </tbody>\n",
       "</table>\n",
       "</div>"
      ],
      "text/plain": [
       "  NUMERO_INCIDENTE FECHA_INICIO_DESPLAZAMIENTO-MOVIL  CODIGO_LOCALIDAD  \\\n",
       "0  CRU-00133927-22                    1/04/2022 5:31                18   \n",
       "1  CRU-00133948-22                    1/04/2022 5:52                19   \n",
       "2  CRU-00133967-22                    1/04/2022 6:06                 7   \n",
       "3  CRU-00134007-22                    1/04/2022 6:47                19   \n",
       "4  CRU-00134032-22                    1/04/2022 7:07                11   \n",
       "\n",
       "            LOCALIDAD  EDAD    UNIDAD     GENERO      RED TIPO_INCIDENTE  \\\n",
       "0  Rafael Uribe Uribe     0  SIN_DATO   SIN_DATO  Privada         Herido   \n",
       "1      Ciudad Bol¡var     0  SIN_DATO   SIN_DATO  Privada         Herido   \n",
       "2                Bosa     0  SIN_DATO   SIN_DATO  Privada         Herido   \n",
       "3      Ciudad Bol¡var    22      A¤os   FEMENINO  Privada         Herido   \n",
       "4                Suba    36      A¤os  MASCULINO  Privada         Herido   \n",
       "\n",
       "  PRIORIDAD            RECEPCION  \n",
       "0      ALTA  0000-00-00 00:00:00  \n",
       "1      ALTA  0000-00-00 00:00:00  \n",
       "2      ALTA  0000-00-00 00:00:00  \n",
       "3      ALTA       1/04/2022 8:37  \n",
       "4      ALTA  0000-00-00 00:00:00  "
      ]
     },
     "execution_count": 25,
     "metadata": {},
     "output_type": "execute_result"
    }
   ],
   "source": [
    "consolidado_123.head()"
   ]
  },
  {
   "cell_type": "code",
   "execution_count": 26,
   "id": "0674aa2d-c42c-4bfd-b1b4-65fca19676ed",
   "metadata": {},
   "outputs": [
    {
     "name": "stdout",
     "output_type": "stream",
     "text": [
      "<class 'pandas.core.frame.DataFrame'>\n",
      "RangeIndex: 25890 entries, 0 to 25889\n",
      "Data columns (total 11 columns):\n",
      " #   Column                             Non-Null Count  Dtype \n",
      "---  ------                             --------------  ----- \n",
      " 0   NUMERO_INCIDENTE                   25890 non-null  object\n",
      " 1   FECHA_INICIO_DESPLAZAMIENTO-MOVIL  25890 non-null  object\n",
      " 2   CODIGO_LOCALIDAD                   25890 non-null  int64 \n",
      " 3   LOCALIDAD                          25890 non-null  object\n",
      " 4   EDAD                               25890 non-null  int64 \n",
      " 5   UNIDAD                             25890 non-null  object\n",
      " 6   GENERO                             25890 non-null  object\n",
      " 7   RED                                25890 non-null  object\n",
      " 8   TIPO_INCIDENTE                     25890 non-null  object\n",
      " 9   PRIORIDAD                          25890 non-null  object\n",
      " 10  RECEPCION                          25890 non-null  object\n",
      "dtypes: int64(2), object(9)\n",
      "memory usage: 2.2+ MB\n"
     ]
    }
   ],
   "source": [
    " consolidado_123.info()"
   ]
  },
  {
   "cell_type": "code",
   "execution_count": 27,
   "id": "70f04084-6ea0-4f84-9a96-200f98fd9ab8",
   "metadata": {},
   "outputs": [
    {
     "data": {
      "text/plain": [
       "(None,)"
      ]
     },
     "execution_count": 27,
     "metadata": {},
     "output_type": "execute_result"
    }
   ],
   "source": [
    "    consolidado_123.rename(\n",
    "     columns ={\"TIPO_INCIDENTE\":\"TIPO_DE_EVENTO\"},inplace=True),\n"
   ]
  },
  {
   "cell_type": "code",
   "execution_count": 29,
   "id": "a2e9a565-270a-47b1-ba86-b2cb92d3e784",
   "metadata": {},
   "outputs": [
    {
     "name": "stdout",
     "output_type": "stream",
     "text": [
      "<class 'pandas.core.frame.DataFrame'>\n",
      "RangeIndex: 25890 entries, 0 to 25889\n",
      "Data columns (total 11 columns):\n",
      " #   Column                             Non-Null Count  Dtype \n",
      "---  ------                             --------------  ----- \n",
      " 0   NUMERO_INCIDENTE                   25890 non-null  object\n",
      " 1   FECHA_INICIO_DESPLAZAMIENTO-MOVIL  25890 non-null  object\n",
      " 2   CODIGO_LOCALIDAD                   25890 non-null  int64 \n",
      " 3   LOCALIDAD                          25890 non-null  object\n",
      " 4   EDAD                               25890 non-null  int64 \n",
      " 5   UNIDAD                             25890 non-null  object\n",
      " 6   GENERO                             25890 non-null  object\n",
      " 7   RED                                25890 non-null  object\n",
      " 8   TIPO_DE_EVENTO                     25890 non-null  object\n",
      " 9   PRIORIDAD                          25890 non-null  object\n",
      " 10  RECEPCION                          25890 non-null  object\n",
      "dtypes: int64(2), object(9)\n",
      "memory usage: 2.2+ MB\n"
     ]
    }
   ],
   "source": [
    " consolidado_123.info()"
   ]
  },
  {
   "cell_type": "code",
   "execution_count": 30,
   "id": "57eded89-2e14-4ba7-92eb-0d89601dc257",
   "metadata": {},
   "outputs": [
    {
     "data": {
      "text/plain": [
       "Kennedy               3270\n",
       "Engativ               2760\n",
       "Suba                  2648\n",
       "Bosa                  2040\n",
       "Ciudad Bol¡var        1882\n",
       "San Crist¢bal         1456\n",
       "Rafael Uribe Uribe    1338\n",
       "Usaqun               1316\n",
       "Puente Aranda         1316\n",
       "Fontib¢n              1218\n",
       "Usme                  1218\n",
       "Chapinero              856\n",
       "Teusaquillo            848\n",
       "Tunjuelito             814\n",
       "Barrios Unidos         760\n",
       "Los M rtires           760\n",
       "Santa Fe               736\n",
       "Antonio Nari¤o         468\n",
       "La Candelaria          186\n",
       "Name: LOCALIDAD, dtype: int64"
      ]
     },
     "execution_count": 30,
     "metadata": {},
     "output_type": "execute_result"
    }
   ],
   "source": [
    "consolidado_123['LOCALIDAD'].apply(\n",
    "    lambda x: x.strip()        # SIRVE PARA QUITAR LOS ESPACION\n",
    ").value_counts()"
   ]
  },
  {
   "cell_type": "code",
   "execution_count": 31,
   "id": "ebb68509-0a11-47f1-bf08-93da5f88cd40",
   "metadata": {},
   "outputs": [
    {
     "data": {
      "text/plain": [
       "Kennedy               3270\n",
       "Engativ               2760\n",
       "Suba                  2648\n",
       "Bosa                  2040\n",
       "Ciudad Bol¡var        1882\n",
       "San Crist¢bal         1456\n",
       "Rafael Uribe Uribe    1338\n",
       "Usaqun               1316\n",
       "Puente Aranda         1316\n",
       "Fontib¢n              1218\n",
       "Usme                  1218\n",
       "Chapinero              856\n",
       "Teusaquillo            848\n",
       "Tunjuelito             814\n",
       "Barrios Unidos         760\n",
       "Los M rtires           760\n",
       "Santa Fe               736\n",
       "Antonio Nari¤o         468\n",
       "La Candelaria          186\n",
       "Name: LOCALIDAD, dtype: int64"
      ]
     },
     "execution_count": 31,
     "metadata": {},
     "output_type": "execute_result"
    }
   ],
   "source": [
    "consolidado_123[\"LOCALIDAD\"].value_counts(dropna=False)"
   ]
  },
  {
   "cell_type": "code",
   "execution_count": 57,
   "id": "b6d9e391-8958-4eb3-a17e-ea995176dac5",
   "metadata": {},
   "outputs": [],
   "source": [
    " consolidado_123[\"LOCALIDAD\"] =  consolidado_123[\"LOCALIDAD\"].replace(\n",
    "       { \"Barrios Unidos\":\"BARRIOS UNIDOS\",\"Fontib¢n\":\"FONTIBON\",\"San Crist¢bal\":\"SAN CRISTOBAL\",\"Engativ\\xa0\":\"ENGATIVA\",\"Suba\":\"SUBA\",\"Bosa\":\"BOSA\"\n",
    "       , \"Kennedy\":\"KENNEDY\", \"Usaqun\":\"USAQUEN\", \"Antonio Nari¤o\":\"ANTONIO NARIÑO\",\"Puente Aranda\":\"PUENTE ARANDA\" \n",
    "        ,\"Rafael Uribe Uribe\":\"RAFAEL URIBE URIBE\" ,\"Usme\":\"USME\" ,\"Usme\":\"USME\" ,\"Chapinero\":\"CHAPINERO\",\"Santa Fe\":\"SANTA FE\",\"Teusaquillo\":\"TEUSAQUILLO\"\n",
    "        ,\"Tunjuelito\":\"TUNJUELITO\",\"La Candelaria\":\"LA CANDELARIA\",\"Sumapaz\":\"SUMAPAZ\",\"Ciudad Bol¡var\":\"CIUDAD BOLIVAR\",\"Los M\\xa0rtires\":\"LOS MARTIRES\"\n",
    "       }\n",
    " )# ESTE SIRVE PARA RENOMBAR LOS DATOS DELAS FILAS\n"
   ]
  },
  {
   "cell_type": "code",
   "execution_count": 58,
   "id": "eca0be8a-07ed-45ca-9e4c-0e31962f467d",
   "metadata": {},
   "outputs": [
    {
     "data": {
      "text/plain": [
       "KENNEDY               1629\n",
       "ENGATIVA              1370\n",
       "SUBA                  1314\n",
       "BOSA                  1018\n",
       "CIUDAD BOLIVAR         937\n",
       "SAN CRISTOBAL          719\n",
       "RAFAEL URIBE URIBE     665\n",
       "PUENTE ARANDA          655\n",
       "USAQUEN                652\n",
       "USME                   601\n",
       "FONTIBON               601\n",
       "CHAPINERO              424\n",
       "TEUSAQUILLO            422\n",
       "TUNJUELITO             406\n",
       "LOS MARTIRES           379\n",
       "BARRIOS UNIDOS         378\n",
       "SANTA FE               366\n",
       "ANTONIO NARIÑO         234\n",
       "LA CANDELARIA           93\n",
       "Name: LOCALIDAD, dtype: int64"
      ]
     },
     "execution_count": 58,
     "metadata": {},
     "output_type": "execute_result"
    }
   ],
   "source": [
    "#casos por localidad\n",
    "consolidado_123[\"LOCALIDAD\"].value_counts(dropna=False)  \n"
   ]
  },
  {
   "cell_type": "code",
   "execution_count": 50,
   "id": "c90af665-5b9d-428c-a828-4bc6b7bd4e04",
   "metadata": {},
   "outputs": [
    {
     "data": {
      "text/plain": [
       "SIN_DATO     5879\n",
       "MASCULINO    3573\n",
       "FEMENINO     3411\n",
       "Name: GENERO, dtype: int64"
      ]
     },
     "execution_count": 50,
     "metadata": {},
     "output_type": "execute_result"
    }
   ],
   "source": [
    "#casos por localidad\n",
    "consolidado_123[\"GENERO\"].value_counts(dropna=False)\n"
   ]
  },
  {
   "cell_type": "code",
   "execution_count": 35,
   "id": "77406f40-c9d9-4276-a0cd-5e3728a1f85a",
   "metadata": {},
   "outputs": [],
   "source": [
    "consolidado_123[\"TIPO_DE_EVENTO\"]=consolidado_123[\"TIPO_DE_EVENTO\"].replace({\"Convulsi¢n\":\"CONVULSIONES\",\"Intoxicaci¢n\":\"INTOXICACION\"\n",
    ",\"Electrocuci¢n / rescate\":\"ELECTROCUCION\",\"Accidente de Aviaci¢n\":\"ACCIDENTE AVION\"})"
   ]
  },
  {
   "cell_type": "code",
   "execution_count": 51,
   "id": "d3443a6d-52b7-42c9-8351-47fa961c1eb0",
   "metadata": {},
   "outputs": [
    {
     "data": {
      "text/plain": [
       "Herido                                    3872\n",
       "Inconsciente / Paro cardiorespiratorio    1506\n",
       "Evento Respiratorio                       1278\n",
       "CONVULSIONES                              1125\n",
       "Enfermo                                    939\n",
       "Trastorno Mental                           821\n",
       "Intento de Suicidio                        701\n",
       "Dolor Tor cico                             619\n",
       "S¡ntomas Gastrointestinales                365\n",
       "Accidente Cerebro Vascular                 332\n",
       "INTOXICACION                               293\n",
       "Ca¡da de Altura                            291\n",
       "Patolog¡a Ginecobsttrica                  272\n",
       "Amenaza de Suicidio                        182\n",
       "Acompa¤amiento Evento                       94\n",
       "Violencia Sexual                            83\n",
       "Maltrato                                    54\n",
       "Sangrado Vaginal                            12\n",
       "Quemaduras                                  12\n",
       "ELECTROCUCION                                7\n",
       "Solicitud de Apoyo                           4\n",
       "ACCIDENTE AVION                              1\n",
       "Name: TIPO_DE_EVENTO, dtype: int64"
      ]
     },
     "execution_count": 51,
     "metadata": {},
     "output_type": "execute_result"
    }
   ],
   "source": [
    "#por tipo de evento\n",
    "consolidado_123[\"TIPO_DE_EVENTO\"].value_counts(dropna=False)"
   ]
  },
  {
   "cell_type": "code",
   "execution_count": 52,
   "id": "e7992cea-4f2f-44d3-81a2-e4127800f924",
   "metadata": {},
   "outputs": [
    {
     "data": {
      "text/plain": [
       "ALTA       6595\n",
       "CRITICA    4081\n",
       "MEDIA      1729\n",
       "BAJA        458\n",
       "Name: PRIORIDAD, dtype: int64"
      ]
     },
     "execution_count": 52,
     "metadata": {},
     "output_type": "execute_result"
    }
   ],
   "source": [
    "#por tipo de prioridad\n",
    "consolidado_123[\"PRIORIDAD\"].value_counts(dropna=False)"
   ]
  },
  {
   "cell_type": "code",
   "execution_count": 53,
   "id": "92831e48-8351-4cb0-b130-97dacf3f080a",
   "metadata": {},
   "outputs": [],
   "source": [
    "consolidado_123.drop_duplicates(inplace=True)"
   ]
  },
  {
   "cell_type": "code",
   "execution_count": 54,
   "id": "d61ad194-1a43-47fd-9181-69b3d800a9d0",
   "metadata": {},
   "outputs": [
    {
     "data": {
      "text/html": [
       "<div>\n",
       "<style scoped>\n",
       "    .dataframe tbody tr th:only-of-type {\n",
       "        vertical-align: middle;\n",
       "    }\n",
       "\n",
       "    .dataframe tbody tr th {\n",
       "        vertical-align: top;\n",
       "    }\n",
       "\n",
       "    .dataframe thead th {\n",
       "        text-align: right;\n",
       "    }\n",
       "</style>\n",
       "<table border=\"1\" class=\"dataframe\">\n",
       "  <thead>\n",
       "    <tr style=\"text-align: right;\">\n",
       "      <th></th>\n",
       "      <th>NUMERO_INCIDENTE</th>\n",
       "      <th>FECHA_INICIO_DESPLAZAMIENTO-MOVIL</th>\n",
       "      <th>CODIGO_LOCALIDAD</th>\n",
       "      <th>LOCALIDAD</th>\n",
       "      <th>EDAD</th>\n",
       "      <th>UNIDAD</th>\n",
       "      <th>GENERO</th>\n",
       "      <th>RED</th>\n",
       "      <th>TIPO_DE_EVENTO</th>\n",
       "      <th>PRIORIDAD</th>\n",
       "      <th>RECEPCION</th>\n",
       "    </tr>\n",
       "  </thead>\n",
       "  <tbody>\n",
       "    <tr>\n",
       "      <th>0</th>\n",
       "      <td>CRU-00133927-22</td>\n",
       "      <td>1/04/2022 5:31</td>\n",
       "      <td>18</td>\n",
       "      <td>RAFAEL URIBE URIBE</td>\n",
       "      <td>0</td>\n",
       "      <td>SIN_DATO</td>\n",
       "      <td>SIN_DATO</td>\n",
       "      <td>Privada</td>\n",
       "      <td>Herido</td>\n",
       "      <td>ALTA</td>\n",
       "      <td>0000-00-00 00:00:00</td>\n",
       "    </tr>\n",
       "    <tr>\n",
       "      <th>1</th>\n",
       "      <td>CRU-00133948-22</td>\n",
       "      <td>1/04/2022 5:52</td>\n",
       "      <td>19</td>\n",
       "      <td>Ciudad Bol¡var</td>\n",
       "      <td>0</td>\n",
       "      <td>SIN_DATO</td>\n",
       "      <td>SIN_DATO</td>\n",
       "      <td>Privada</td>\n",
       "      <td>Herido</td>\n",
       "      <td>ALTA</td>\n",
       "      <td>0000-00-00 00:00:00</td>\n",
       "    </tr>\n",
       "    <tr>\n",
       "      <th>2</th>\n",
       "      <td>CRU-00133967-22</td>\n",
       "      <td>1/04/2022 6:06</td>\n",
       "      <td>7</td>\n",
       "      <td>BOSA</td>\n",
       "      <td>0</td>\n",
       "      <td>SIN_DATO</td>\n",
       "      <td>SIN_DATO</td>\n",
       "      <td>Privada</td>\n",
       "      <td>Herido</td>\n",
       "      <td>ALTA</td>\n",
       "      <td>0000-00-00 00:00:00</td>\n",
       "    </tr>\n",
       "    <tr>\n",
       "      <th>3</th>\n",
       "      <td>CRU-00134007-22</td>\n",
       "      <td>1/04/2022 6:47</td>\n",
       "      <td>19</td>\n",
       "      <td>Ciudad Bol¡var</td>\n",
       "      <td>22</td>\n",
       "      <td>A¤os</td>\n",
       "      <td>FEMENINO</td>\n",
       "      <td>Privada</td>\n",
       "      <td>Herido</td>\n",
       "      <td>ALTA</td>\n",
       "      <td>1/04/2022 8:37</td>\n",
       "    </tr>\n",
       "    <tr>\n",
       "      <th>4</th>\n",
       "      <td>CRU-00134032-22</td>\n",
       "      <td>1/04/2022 7:07</td>\n",
       "      <td>11</td>\n",
       "      <td>SUBA</td>\n",
       "      <td>36</td>\n",
       "      <td>A¤os</td>\n",
       "      <td>MASCULINO</td>\n",
       "      <td>Privada</td>\n",
       "      <td>Herido</td>\n",
       "      <td>ALTA</td>\n",
       "      <td>0000-00-00 00:00:00</td>\n",
       "    </tr>\n",
       "  </tbody>\n",
       "</table>\n",
       "</div>"
      ],
      "text/plain": [
       "  NUMERO_INCIDENTE FECHA_INICIO_DESPLAZAMIENTO-MOVIL  CODIGO_LOCALIDAD  \\\n",
       "0  CRU-00133927-22                    1/04/2022 5:31                18   \n",
       "1  CRU-00133948-22                    1/04/2022 5:52                19   \n",
       "2  CRU-00133967-22                    1/04/2022 6:06                 7   \n",
       "3  CRU-00134007-22                    1/04/2022 6:47                19   \n",
       "4  CRU-00134032-22                    1/04/2022 7:07                11   \n",
       "\n",
       "            LOCALIDAD  EDAD    UNIDAD     GENERO      RED TIPO_DE_EVENTO  \\\n",
       "0  RAFAEL URIBE URIBE     0  SIN_DATO   SIN_DATO  Privada         Herido   \n",
       "1      Ciudad Bol¡var     0  SIN_DATO   SIN_DATO  Privada         Herido   \n",
       "2                BOSA     0  SIN_DATO   SIN_DATO  Privada         Herido   \n",
       "3      Ciudad Bol¡var    22      A¤os   FEMENINO  Privada         Herido   \n",
       "4                SUBA    36      A¤os  MASCULINO  Privada         Herido   \n",
       "\n",
       "  PRIORIDAD            RECEPCION  \n",
       "0      ALTA  0000-00-00 00:00:00  \n",
       "1      ALTA  0000-00-00 00:00:00  \n",
       "2      ALTA  0000-00-00 00:00:00  \n",
       "3      ALTA       1/04/2022 8:37  \n",
       "4      ALTA  0000-00-00 00:00:00  "
      ]
     },
     "execution_count": 54,
     "metadata": {},
     "output_type": "execute_result"
    }
   ],
   "source": [
    "consolidado_123.head()"
   ]
  },
  {
   "cell_type": "code",
   "execution_count": 107,
   "id": "a07869c9-c52d-4574-aa12-ef70fe943333",
   "metadata": {},
   "outputs": [],
   "source": [
    "consolidado_123.to_csv(\"gs://fuenteexternas/tablaprocesada123.csv\",encoding =\"latin1\",sep=\";\")"
   ]
  },
  {
   "cell_type": "code",
   "execution_count": 62,
   "id": "f9eefa43-1f10-48ec-a356-a9d8caa2fd65",
   "metadata": {},
   "outputs": [
    {
     "ename": "NameError",
     "evalue": "name '_main_' is not defined",
     "output_type": "error",
     "traceback": [
      "\u001b[0;31m---------------------------------------------------------------------------\u001b[0m",
      "\u001b[0;31mNameError\u001b[0m                                 Traceback (most recent call last)",
      "\u001b[0;32m/tmp/ipykernel_1/2836369224.py\u001b[0m in \u001b[0;36m<module>\u001b[0;34m\u001b[0m\n\u001b[1;32m      7\u001b[0m \u001b[0;34m\u001b[0m\u001b[0m\n\u001b[1;32m      8\u001b[0m \u001b[0;32mif\u001b[0m \u001b[0m__name__\u001b[0m\u001b[0;34m==\u001b[0m\u001b[0;34m\"__main__\"\u001b[0m\u001b[0;34m:\u001b[0m\u001b[0;34m\u001b[0m\u001b[0;34m\u001b[0m\u001b[0m\n\u001b[0;32m----> 9\u001b[0;31m    \u001b[0m_main_\u001b[0m\u001b[0;34m(\u001b[0m\u001b[0;34m)\u001b[0m\u001b[0;34m\u001b[0m\u001b[0;34m\u001b[0m\u001b[0m\n\u001b[0m",
      "\u001b[0;31mNameError\u001b[0m: name '_main_' is not defined"
     ]
    }
   ],
   "source": [
    "\n",
    "def main():\n",
    "    filename =\"tablaprocesada123.csv\"\n",
    "    datos = get_data(filename)\n",
    "    reporte=generate_report(datos)\n",
    "    save_data(reporte,filename)\n",
    "    \n",
    "if __name__==\"__main__\":\n",
    "   _main_()"
   ]
  },
  {
   "cell_type": "code",
   "execution_count": null,
   "id": "b7ad00fc-b46f-42e1-9bdc-89bed4c183aa",
   "metadata": {},
   "outputs": [],
   "source": []
  }
 ],
 "metadata": {
  "kernelspec": {
   "display_name": "Python (Local)",
   "language": "python",
   "name": "local-base"
  },
  "language_info": {
   "codemirror_mode": {
    "name": "ipython",
    "version": 3
   },
   "file_extension": ".py",
   "mimetype": "text/x-python",
   "name": "python",
   "nbconvert_exporter": "python",
   "pygments_lexer": "ipython3",
   "version": "3.7.12"
  }
 },
 "nbformat": 4,
 "nbformat_minor": 5
}
